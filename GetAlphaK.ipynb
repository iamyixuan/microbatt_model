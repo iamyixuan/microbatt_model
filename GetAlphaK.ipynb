{
 "cells": [
  {
   "cell_type": "code",
   "execution_count": 8,
   "metadata": {},
   "outputs": [
    {
     "ename": "ModuleNotFoundError",
     "evalue": "No module named 'cv2'",
     "output_type": "error",
     "traceback": [
      "\u001b[0;31m---------------------------------------------------------------------------\u001b[0m",
      "\u001b[0;31mModuleNotFoundError\u001b[0m                       Traceback (most recent call last)",
      "\u001b[0;32m/var/folders/vc/kzz6d9bd797_jrkvtf6dm2l40000gn/T/ipykernel_98834/42164194.py\u001b[0m in \u001b[0;36m<module>\u001b[0;34m\u001b[0m\n\u001b[1;32m      4\u001b[0m \u001b[0mbattery\u001b[0m \u001b[0mperformance\u001b[0m\u001b[0;34m:\u001b[0m \u001b[0mcurrent\u001b[0m \u001b[0mdensities\u001b[0m\u001b[0;34m,\u001b[0m \u001b[0mcell\u001b[0m \u001b[0mpotential\u001b[0m \u001b[0;32mand\u001b[0m \u001b[0mcapacity\u001b[0m\u001b[0;34m\u001b[0m\u001b[0;34m\u001b[0m\u001b[0m\n\u001b[1;32m      5\u001b[0m \"\"\"\n\u001b[0;32m----> 6\u001b[0;31m \u001b[0;32mfrom\u001b[0m \u001b[0mAPI\u001b[0m \u001b[0;32mimport\u001b[0m \u001b[0mprediction\u001b[0m\u001b[0;34m\u001b[0m\u001b[0;34m\u001b[0m\u001b[0m\n\u001b[0m\u001b[1;32m      7\u001b[0m \u001b[0;34m\u001b[0m\u001b[0m\n\u001b[1;32m      8\u001b[0m \u001b[0;34m\u001b[0m\u001b[0m\n",
      "\u001b[0;32m~/Documents/research/battery_inverse/alphakconvnet/bin/API.pyc\u001b[0m in \u001b[0;36m<module>\u001b[0;34m\u001b[0m\n",
      "\u001b[0;31mModuleNotFoundError\u001b[0m: No module named 'cv2'"
     ]
    }
   ],
   "source": [
    "\"\"\"\n",
    "This is the user interface for predicting Bruggeman's exponent \n",
    "and shape factor of a battery's microstructure given the expected\n",
    "battery performance: current densities, cell potential and capacity\n",
    "\"\"\"\n",
    "from API import prediction\n",
    "\n",
    "\n",
    "\"\"\"\n",
    "Predicting microstructure property of a battery: Bruggeman's exponent and shape factor.\n",
    "cell_pot_seq: shape: (6, seq_len); cell potential sequences corresponding to 6 current densities.\n",
    "capacity_seq: shape: (6, seq_len); capacity sequences corresponding to 6 current densities.\n",
    "current_density_seq: [1.75, 8.75, 17.5, 35, 52.5, 70] current density values of which the order needs to be consistent with other variables.           \n",
    "power_density_list: length: 6; power density values corresponding to the 6 current densities. \n",
    "energy_density_list: length:6; energy density values for the 6 current densities.\n",
    "\"\"\"\n",
    "\n",
    "# user inputs\n",
    "cell_pot_seq = None # shape: (6, seq_len); cell potential sequences corresponding to 6 current densities.\n",
    "capacity_seq = None # shape: (6, seq_len); capacity sequences corresponding to 6 current densities.\n",
    "current_density_list = None # [1.75, 8.75, 17.5, 35, 52.5, 70] current density values of which the order needs to be consistent with othe\n",
    "power_density_list = None #length: 6; power density values corresponding to the 6 current densities.\n",
    "energy_density_list = None #length:6; energy density values for the 6 current densities.\n",
    "\n",
    "alpha_pred, K_pred = prediction(cell_pot_seq=cell_plot_seq,\n",
    "                                capacity_seq=capacity_seq,\n",
    "                                current_density_list=current_density_list,\n",
    "                                power_density_list=power_density_list,\n",
    "                                energy_density_list=energy_density_list)\n"
   ]
  },
  {
   "cell_type": "code",
   "execution_count": null,
   "metadata": {},
   "outputs": [],
   "source": []
  }
 ],
 "metadata": {
  "interpreter": {
   "hash": "87347c639d2738b816f68b6799abdf4881eb9561226b6986216451e2cd8ec1fa"
  },
  "kernelspec": {
   "display_name": "Python 3 (ipykernel)",
   "language": "python",
   "name": "python3"
  },
  "language_info": {
   "codemirror_mode": {
    "name": "ipython",
    "version": 3
   },
   "file_extension": ".py",
   "mimetype": "text/x-python",
   "name": "python",
   "nbconvert_exporter": "python",
   "pygments_lexer": "ipython3",
   "version": "3.8.10"
  }
 },
 "nbformat": 4,
 "nbformat_minor": 4
}
